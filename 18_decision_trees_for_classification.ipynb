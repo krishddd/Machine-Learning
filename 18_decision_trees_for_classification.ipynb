{
 "cells": [
  {
   "cell_type": "markdown",
   "id": "33b85008",
   "metadata": {},
   "source": [
    "<table align=\"left\">\n",
    "  <td>\n",
    "    <a href=\"https://colab.research.google.com/github/nyandwi/machine_learning_complete/blob/main/6_classical_machine_learning_with_scikit-learn/6_decision_trees_for_classification.ipynb\" target=\"_parent\"><img src=\"https://colab.research.google.com/assets/colab-badge.svg\" alt=\"Open In Colab\"/></a>\n",
    "  </td>\n",
    "</table>"
   ]
  },
  {
   "cell_type": "markdown",
   "id": "a75eed28",
   "metadata": {},
   "source": [
    "*This notebook was created by [Jean de Dieu Nyandwi](https://twitter.com/jeande_d) for the love of machine learning community. For any feedback, errors or suggestion, he can be reached on email (johnjw7084 at gmail dot com), [Twitter](https://twitter.com/jeande_d), or [LinkedIn](https://linkedin.com/in/nyandwi).*"
   ]
  },
  {
   "cell_type": "markdown",
   "id": "7c5ba4fe",
   "metadata": {},
   "source": [
    "<a name='0'></a>\n",
    "# Decision Trees - Classification"
   ]
  },
  {
   "cell_type": "markdown",
   "id": "07494ffb",
   "metadata": {},
   "source": [
    "Decision Trees are supervised machine learning algorithms that are used for both regression and classification tasks. Trees are powerful algorithms that can handle complex datasets. \n",
    "\n",
    "In the previous notebook, we learnt to predict the continous values with decision trees (regression). This notebook is for classification. \n",
    "\n",
    "Different to other algorithms, here are two things that trees are very particular about:\n",
    "\n",
    "Here are 7 interesting facts about decision trees:\n",
    "\n",
    "* They do not need the numerical input data to be scaled. Whatever the numerical values are, decision trees don't care. \n",
    "\n",
    "* Decision trees handle categorical features in the raw text format (Scikit-Learn doesn't support this, TensorFlow's trees implementation does).\n",
    "\n",
    "* Different to other complex learning algorithms, the results of decision trees can be interpreted. It's fair to say that decision trees are not blackbox type models. \n",
    "* While most models will suffer from missing values, decision trees are okay with them.\n",
    "* Trees can handle imbalanced datasets. You will only have to adjust the weights of the classes.\n",
    "* Trees can provide the feature importances or how much each feature contributed to the model training results.\n",
    "* Trees are the basic building blocks of ensemble methods such as random forests and gradient boosting machines.\n",
    "\n",
    "The way decision trees works is like the series of if/else questions. Let's say that you want to make a decision of the car to buy. In order to get the right car to buy, you could go on and evaluate the level of the safety, the number of sits and doors by asking series of if like questions. \n",
    "\n",
    "Here is the structure of the decision trees.\n",
    "\n",
    "![Decision Trees.png](https://cdn.hashnode.com/res/hashnode/image/upload/v1632212349927/4XijLSXib.png)\n",
    "\n",
    "\n",
    "A well-known downside of decision trees is that they tend to overfit the data easily(pretty much assumed they will always overfit at first). One way to overcome overfitting is to reduce the maximum depth of the decision tree (refered to as `max_depth`hyperparameter) in decision trees. We will see other techniques to avoid overfitting. "
   ]
  },
  {
   "cell_type": "markdown",
   "id": "d4e2c5a6",
   "metadata": {},
   "source": [
    "## Decision Trees for Classification"
   ]
  },
  {
   "cell_type": "markdown",
   "id": "ae5e8372",
   "metadata": {},
   "source": [
    "### Contents\n",
    "\n",
    "* [1 - Imports](#1)\n",
    "* [2 - Loading the data](#2)\n",
    "* [3 - Exploratory Analysis](#3)\n",
    "* [4 - Preprocessing the data](#4)\n",
    "* [5 - Training Decision Trees](#5)\n",
    "* [6 - Evaluating Decision Trees](#6)\n",
    "* [7 - Improving Decision Trees](#7)"
   ]
  },
  {
   "cell_type": "markdown",
   "id": "99058d12",
   "metadata": {},
   "source": [
    "<a name='1'></a>\n",
    "## 1 - Imports"
   ]
  },
  {
   "cell_type": "code",
   "execution_count": 227,
   "id": "df278c5f",
   "metadata": {},
   "outputs": [],
   "source": [
    "import numpy as np\n",
    "import pandas as pd\n",
    "import seaborn as sns\n",
    "import sklearn\n",
    "import matplotlib.pyplot as plt\n",
    "%matplotlib inline"
   ]
  },
  {
   "cell_type": "markdown",
   "id": "35699c38",
   "metadata": {},
   "source": [
    "<a name='2'></a>\n",
    "\n",
    "## 2 - Loading the data\n",
    "\n",
    "In this classification task with decision trees, we will use a car dataset that is avilable at [OpenML](https://www.openml.org/d/21) to predict the car acceptability given the information about the car. We will load it with Sklearn `fetch_openml` function. \n",
    "\n",
    "The version of the data we are fetching is 2. In the version 1 of the dataset, the target class had 4 classes (unacc, acc, good, vgood) but in the second version, the majority class is Positive(P) whereas the rest are Negative(P). If you want to see version 1, you can change version parameter in a cell below. \n",
    "\n",
    "\n",
    "Here are the informations about the features:\n",
    "\n",
    "* *buying*: The buying price of the car(vhigh, high, med, low)\n",
    "* maint: The maintainance price of the car(high, high, med, low)\n",
    "* *doors*: The number of doors (2,3,4,5more)\n",
    "* *persons*: The number of persons that can be carried the car. They are 2, 4, and more. \n",
    "* *lug_boot*: The size of the luggage boot (small, med, big)\n",
    "* *safety*: Estimated safefy of the car(low, med, high)\n",
    "* *BinaryClass(target feature)*: The car acceptability class. Either positive(P) or negative(N).\n"
   ]
  },
  {
   "cell_type": "code",
   "execution_count": 228,
   "id": "d3083946",
   "metadata": {},
   "outputs": [],
   "source": [
    "from sklearn.datasets import fetch_openml\n",
    "\n",
    "car_data = fetch_openml(name='car', version=2)"
   ]
  },
  {
   "cell_type": "code",
   "execution_count": 229,
   "id": "46c09852",
   "metadata": {},
   "outputs": [
    {
     "data": {
      "text/plain": [
       "sklearn.utils.Bunch"
      ]
     },
     "execution_count": 229,
     "metadata": {},
     "output_type": "execute_result"
    }
   ],
   "source": [
    "type(car_data)"
   ]
  },
  {
   "cell_type": "code",
   "execution_count": 230,
   "id": "154ed67e",
   "metadata": {},
   "outputs": [
    {
     "data": {
      "text/plain": [
       "{'id': '991',\n",
       " 'name': 'car',\n",
       " 'version': '2',\n",
       " 'description_version': '1',\n",
       " 'format': 'ARFF',\n",
       " 'upload_date': '2014-10-04T22:44:31',\n",
       " 'licence': 'Public',\n",
       " 'url': 'https://www.openml.org/data/v1/download/53525/car.arff',\n",
       " 'file_id': '53525',\n",
       " 'default_target_attribute': 'binaryClass',\n",
       " 'tag': ['derived',\n",
       "  'mythbusting_1',\n",
       "  'study_1',\n",
       "  'study_15',\n",
       "  'study_20',\n",
       "  'study_41',\n",
       "  'study_7'],\n",
       " 'visibility': 'public',\n",
       " 'minio_url': 'http://openml1.win.tue.nl/dataset991/dataset_991.pq',\n",
       " 'status': 'active',\n",
       " 'processing_date': '2020-11-20 20:17:54',\n",
       " 'md5_checksum': '49c57b793eef1b8e55f297e5e019fdbf'}"
      ]
     },
     "execution_count": 230,
     "metadata": {},
     "output_type": "execute_result"
    }
   ],
   "source": [
    "car_data.details"
   ]
  },
  {
   "cell_type": "code",
   "execution_count": 231,
   "id": "d93da4ad",
   "metadata": {},
   "outputs": [
    {
     "data": {
      "text/plain": [
       "'2'"
      ]
     },
     "execution_count": 231,
     "metadata": {},
     "output_type": "execute_result"
    }
   ],
   "source": [
    "car_data.details['version'] "
   ]
  },
  {
   "cell_type": "code",
   "execution_count": 232,
   "id": "69e438fb",
   "metadata": {},
   "outputs": [
    {
     "name": "stdout",
     "output_type": "stream",
     "text": [
      "**Author**:   \n",
      "**Source**: Unknown - Date unknown  \n",
      "**Please cite**:   \n",
      "\n",
      "Binarized version of the original data set (see version 1). The multi-class target feature is converted to a two-class nominal target feature by re-labeling the majority class as positive ('P') and all others as negative ('N'). Originally converted by Quan Sun.\n",
      "\n",
      "Downloaded from openml.org.\n"
     ]
    }
   ],
   "source": [
    "# Data description \n",
    "\n",
    "print(car_data.DESCR)"
   ]
  },
  {
   "cell_type": "code",
   "execution_count": 233,
   "id": "d7180991",
   "metadata": {},
   "outputs": [
    {
     "data": {
      "text/plain": [
       "['buying', 'maint', 'doors', 'persons', 'lug_boot', 'safety']"
      ]
     },
     "execution_count": 233,
     "metadata": {},
     "output_type": "execute_result"
    }
   ],
   "source": [
    "# Displaying feature names\n",
    "\n",
    "car_data.feature_names"
   ]
  },
  {
   "cell_type": "code",
   "execution_count": 234,
   "id": "e3ba092e",
   "metadata": {},
   "outputs": [
    {
     "data": {
      "text/html": [
       "<div>\n",
       "<style scoped>\n",
       "    .dataframe tbody tr th:only-of-type {\n",
       "        vertical-align: middle;\n",
       "    }\n",
       "\n",
       "    .dataframe tbody tr th {\n",
       "        vertical-align: top;\n",
       "    }\n",
       "\n",
       "    .dataframe thead th {\n",
       "        text-align: right;\n",
       "    }\n",
       "</style>\n",
       "<table border=\"1\" class=\"dataframe\">\n",
       "  <thead>\n",
       "    <tr style=\"text-align: right;\">\n",
       "      <th></th>\n",
       "      <th>buying</th>\n",
       "      <th>maint</th>\n",
       "      <th>doors</th>\n",
       "      <th>persons</th>\n",
       "      <th>lug_boot</th>\n",
       "      <th>safety</th>\n",
       "      <th>binaryClass</th>\n",
       "    </tr>\n",
       "  </thead>\n",
       "  <tbody>\n",
       "    <tr>\n",
       "      <th>0</th>\n",
       "      <td>vhigh</td>\n",
       "      <td>vhigh</td>\n",
       "      <td>2</td>\n",
       "      <td>2</td>\n",
       "      <td>small</td>\n",
       "      <td>low</td>\n",
       "      <td>P</td>\n",
       "    </tr>\n",
       "    <tr>\n",
       "      <th>1</th>\n",
       "      <td>vhigh</td>\n",
       "      <td>vhigh</td>\n",
       "      <td>2</td>\n",
       "      <td>2</td>\n",
       "      <td>small</td>\n",
       "      <td>med</td>\n",
       "      <td>P</td>\n",
       "    </tr>\n",
       "    <tr>\n",
       "      <th>2</th>\n",
       "      <td>vhigh</td>\n",
       "      <td>vhigh</td>\n",
       "      <td>2</td>\n",
       "      <td>2</td>\n",
       "      <td>small</td>\n",
       "      <td>high</td>\n",
       "      <td>P</td>\n",
       "    </tr>\n",
       "    <tr>\n",
       "      <th>3</th>\n",
       "      <td>vhigh</td>\n",
       "      <td>vhigh</td>\n",
       "      <td>2</td>\n",
       "      <td>2</td>\n",
       "      <td>med</td>\n",
       "      <td>low</td>\n",
       "      <td>P</td>\n",
       "    </tr>\n",
       "    <tr>\n",
       "      <th>4</th>\n",
       "      <td>vhigh</td>\n",
       "      <td>vhigh</td>\n",
       "      <td>2</td>\n",
       "      <td>2</td>\n",
       "      <td>med</td>\n",
       "      <td>med</td>\n",
       "      <td>P</td>\n",
       "    </tr>\n",
       "  </tbody>\n",
       "</table>\n",
       "</div>"
      ],
      "text/plain": [
       "  buying  maint doors persons lug_boot safety binaryClass\n",
       "0  vhigh  vhigh     2       2    small    low           P\n",
       "1  vhigh  vhigh     2       2    small    med           P\n",
       "2  vhigh  vhigh     2       2    small   high           P\n",
       "3  vhigh  vhigh     2       2      med    low           P\n",
       "4  vhigh  vhigh     2       2      med    med           P"
      ]
     },
     "execution_count": 234,
     "metadata": {},
     "output_type": "execute_result"
    }
   ],
   "source": [
    "# Getting the whole dataframe\n",
    "\n",
    "car_data = car_data.frame\n",
    "car_data.head()"
   ]
  },
  {
   "cell_type": "code",
   "execution_count": 235,
   "id": "2f05b049",
   "metadata": {},
   "outputs": [
    {
     "data": {
      "text/plain": [
       "pandas.core.frame.DataFrame"
      ]
     },
     "execution_count": 235,
     "metadata": {},
     "output_type": "execute_result"
    }
   ],
   "source": [
    "type(car_data)"
   ]
  },
  {
   "cell_type": "markdown",
   "id": "c492fd93",
   "metadata": {},
   "source": [
    "<a name='3'></a>\n",
    "## 3 - Exploratory Analysis\n"
   ]
  },
  {
   "cell_type": "markdown",
   "id": "e9906083",
   "metadata": {},
   "source": [
    "Before doing exploratory analysis, let's get the training and test data. "
   ]
  },
  {
   "cell_type": "markdown",
   "id": "dff2de1d",
   "metadata": {},
   "source": [
    "### Splitting Data into Training and Test sets"
   ]
  },
  {
   "cell_type": "code",
   "execution_count": 236,
   "id": "98d74144",
   "metadata": {},
   "outputs": [
    {
     "name": "stdout",
     "output_type": "stream",
     "text": [
      "The size of training data is: 1555 \n",
      "The size of testing data is: 173\n"
     ]
    }
   ],
   "source": [
    "from sklearn.model_selection import train_test_split\n",
    "\n",
    "train_data, test_data = train_test_split(car_data, test_size=0.1,random_state=20)\n",
    "\n",
    "print('The size of training data is: {} \\nThe size of testing data is: {}'.format(len(train_data), len(test_data)))"
   ]
  },
  {
   "cell_type": "markdown",
   "id": "ab1127e7",
   "metadata": {},
   "source": [
    "### Checking Summary Statistics"
   ]
  },
  {
   "cell_type": "code",
   "execution_count": 237,
   "id": "753bb539",
   "metadata": {},
   "outputs": [
    {
     "data": {
      "text/html": [
       "<div>\n",
       "<style scoped>\n",
       "    .dataframe tbody tr th:only-of-type {\n",
       "        vertical-align: middle;\n",
       "    }\n",
       "\n",
       "    .dataframe tbody tr th {\n",
       "        vertical-align: top;\n",
       "    }\n",
       "\n",
       "    .dataframe thead th {\n",
       "        text-align: right;\n",
       "    }\n",
       "</style>\n",
       "<table border=\"1\" class=\"dataframe\">\n",
       "  <thead>\n",
       "    <tr style=\"text-align: right;\">\n",
       "      <th></th>\n",
       "      <th>buying</th>\n",
       "      <th>maint</th>\n",
       "      <th>doors</th>\n",
       "      <th>persons</th>\n",
       "      <th>lug_boot</th>\n",
       "      <th>safety</th>\n",
       "      <th>binaryClass</th>\n",
       "    </tr>\n",
       "  </thead>\n",
       "  <tbody>\n",
       "    <tr>\n",
       "      <th>count</th>\n",
       "      <td>1555</td>\n",
       "      <td>1555</td>\n",
       "      <td>1555</td>\n",
       "      <td>1555</td>\n",
       "      <td>1555</td>\n",
       "      <td>1555</td>\n",
       "      <td>1555</td>\n",
       "    </tr>\n",
       "    <tr>\n",
       "      <th>unique</th>\n",
       "      <td>4</td>\n",
       "      <td>4</td>\n",
       "      <td>4</td>\n",
       "      <td>3</td>\n",
       "      <td>3</td>\n",
       "      <td>3</td>\n",
       "      <td>2</td>\n",
       "    </tr>\n",
       "    <tr>\n",
       "      <th>top</th>\n",
       "      <td>med</td>\n",
       "      <td>low</td>\n",
       "      <td>2</td>\n",
       "      <td>2</td>\n",
       "      <td>med</td>\n",
       "      <td>low</td>\n",
       "      <td>P</td>\n",
       "    </tr>\n",
       "    <tr>\n",
       "      <th>freq</th>\n",
       "      <td>402</td>\n",
       "      <td>392</td>\n",
       "      <td>393</td>\n",
       "      <td>521</td>\n",
       "      <td>522</td>\n",
       "      <td>528</td>\n",
       "      <td>1097</td>\n",
       "    </tr>\n",
       "  </tbody>\n",
       "</table>\n",
       "</div>"
      ],
      "text/plain": [
       "       buying maint doors persons lug_boot safety binaryClass\n",
       "count    1555  1555  1555    1555     1555   1555        1555\n",
       "unique      4     4     4       3        3      3           2\n",
       "top       med   low     2       2      med    low           P\n",
       "freq      402   392   393     521      522    528        1097"
      ]
     },
     "execution_count": 237,
     "metadata": {},
     "output_type": "execute_result"
    }
   ],
   "source": [
    "# Checking summary statistics\n",
    "\n",
    "train_data.describe()"
   ]
  },
  {
   "cell_type": "markdown",
   "id": "dd6e747c",
   "metadata": {},
   "source": [
    "### Checking Missing Values"
   ]
  },
  {
   "cell_type": "code",
   "execution_count": 238,
   "id": "f0e4fb67",
   "metadata": {},
   "outputs": [
    {
     "data": {
      "text/plain": [
       "buying         0\n",
       "maint          0\n",
       "doors          0\n",
       "persons        0\n",
       "lug_boot       0\n",
       "safety         0\n",
       "binaryClass    0\n",
       "dtype: int64"
      ]
     },
     "execution_count": 238,
     "metadata": {},
     "output_type": "execute_result"
    }
   ],
   "source": [
    "# Checking missing values\n",
    "train_data.isnull().sum()"
   ]
  },
  {
   "cell_type": "markdown",
   "id": "4977a1a1",
   "metadata": {},
   "source": [
    "We don't have any missing values. "
   ]
  },
  {
   "cell_type": "markdown",
   "id": "5da8fe66",
   "metadata": {},
   "source": [
    "### Checking Categorical Features"
   ]
  },
  {
   "cell_type": "markdown",
   "id": "ff90081a",
   "metadata": {},
   "source": [
    "Let's inspect some categorical features that are in the dataset, almost all re. Let's see that!"
   ]
  },
  {
   "cell_type": "code",
   "execution_count": 239,
   "id": "7c5e465c",
   "metadata": {},
   "outputs": [
    {
     "data": {
      "text/plain": [
       "med      402\n",
       "vhigh    387\n",
       "high     385\n",
       "low      381\n",
       "Name: buying, dtype: int64"
      ]
     },
     "execution_count": 239,
     "metadata": {},
     "output_type": "execute_result"
    }
   ],
   "source": [
    "train_data['buying'].value_counts()"
   ]
  },
  {
   "cell_type": "code",
   "execution_count": 240,
   "id": "d88aefd8",
   "metadata": {},
   "outputs": [
    {
     "data": {
      "text/plain": [
       "<AxesSubplot:xlabel='buying', ylabel='count'>"
      ]
     },
     "execution_count": 240,
     "metadata": {},
     "output_type": "execute_result"
    },
    {
     "data": {
      "image/png": "[encoded data removed]",
      "text/plain": [
       "<Figure size 1080x720 with 1 Axes>"
      ]
     },
     "metadata": {
      "needs_background": "light"
     },
     "output_type": "display_data"
    }
   ],
   "source": [
    "plt.figure(figsize=(15,10))\n",
    "sns.countplot(data=train_data, x='buying')"
   ]
  },
  {
   "cell_type": "code",
   "execution_count": 241,
   "id": "83d9f295",
   "metadata": {},
   "outputs": [
    {
     "data": {
      "text/plain": [
       "<AxesSubplot:xlabel='buying', ylabel='count'>"
      ]
     },
     "execution_count": 241,
     "metadata": {},
     "output_type": "execute_result"
    },
    {
     "data": {
      "image/png": "[encoded data removed]",
      "text/plain": [
       "<Figure size 1080x720 with 1 Axes>"
      ]
     },
     "metadata": {
      "needs_background": "light"
     },
     "output_type": "display_data"
    }
   ],
   "source": [
    "plt.figure(figsize=(15,10))\n",
    "sns.countplot(data=train_data, x='buying', hue='binaryClass')"
   ]
  },
  {
   "cell_type": "markdown",
   "id": "2a986c09",
   "metadata": {},
   "source": [
    "As you can see above, the majority class in the buying price is median(`med`). "
   ]
  },
  {
   "cell_type": "code",
   "execution_count": 242,
   "id": "dc1eadb0",
   "metadata": {},
   "outputs": [
    {
     "data": {
      "text/plain": [
       "low      392\n",
       "med      390\n",
       "high     387\n",
       "vhigh    386\n",
       "Name: maint, dtype: int64"
      ]
     },
     "execution_count": 242,
     "metadata": {},
     "output_type": "execute_result"
    }
   ],
   "source": [
    "train_data['maint'].value_counts()"
   ]
  },
  {
   "cell_type": "code",
   "execution_count": 243,
   "id": "433c25f4",
   "metadata": {},
   "outputs": [
    {
     "data": {
      "text/plain": [
       "<AxesSubplot:xlabel='maint', ylabel='count'>"
      ]
     },
     "execution_count": 243,
     "metadata": {},
     "output_type": "execute_result"
    },
    {
     "data": {
      "image/png": "[encoded data removed]",
      "text/plain": [
       "<Figure size 1080x720 with 1 Axes>"
      ]
     },
     "metadata": {
      "needs_background": "light"
     },
     "output_type": "display_data"
    }
   ],
   "source": [
    "plt.figure(figsize=(15,10))\n",
    "sns.countplot(data=train_data, x='maint')"
   ]
  },
  {
   "cell_type": "code",
   "execution_count": 244,
   "id": "110b9abd",
   "metadata": {},
   "outputs": [
    {
     "data": {
      "text/plain": [
       "<AxesSubplot:xlabel='maint', ylabel='count'>"
      ]
     },
     "execution_count": 244,
     "metadata": {},
     "output_type": "execute_result"
    },
    {
     "data": {
      "image/png": "[encoded data removed]",
      "text/plain": [
       "<Figure size 1080x720 with 1 Axes>"
      ]
     },
     "metadata": {
      "needs_background": "light"
     },
     "output_type": "display_data"
    }
   ],
   "source": [
    "plt.figure(figsize=(15,10))\n",
    "sns.countplot(data=train_data, x='maint', hue='binaryClass')"
   ]
  },
  {
   "cell_type": "markdown",
   "id": "b1b2c63b",
   "metadata": {},
   "source": [
    "Let's also check what's in doors. "
   ]
  },
  {
   "cell_type": "code",
   "execution_count": 245,
   "id": "4298a48f",
   "metadata": {},
   "outputs": [
    {
     "data": {
      "text/plain": [
       "2        393\n",
       "4        393\n",
       "5more    389\n",
       "3        380\n",
       "Name: doors, dtype: int64"
      ]
     },
     "execution_count": 245,
     "metadata": {},
     "output_type": "execute_result"
    }
   ],
   "source": [
    "train_data['doors'].value_counts()"
   ]
  },
  {
   "cell_type": "code",
   "execution_count": 246,
   "id": "477a5113",
   "metadata": {},
   "outputs": [
    {
     "data": {
      "text/plain": [
       "<AxesSubplot:xlabel='doors', ylabel='count'>"
      ]
     },
     "execution_count": 246,
     "metadata": {},
     "output_type": "execute_result"
    },
    {
     "data": {
      "image/png": "[encoded data removed]",
      "text/plain": [
       "<Figure size 1080x720 with 1 Axes>"
      ]
     },
     "metadata": {
      "needs_background": "light"
     },
     "output_type": "display_data"
    }
   ],
   "source": [
    "plt.figure(figsize=(15,10))\n",
    "sns.countplot(data=train_data, x='doors')"
   ]
  },
  {
   "cell_type": "code",
   "execution_count": 247,
   "id": "f77d35bd",
   "metadata": {},
   "outputs": [
    {
     "data": {
      "text/plain": [
       "<AxesSubplot:xlabel='doors', ylabel='count'>"
      ]
     },
     "execution_count": 247,
     "metadata": {},
     "output_type": "execute_result"
    },
    {
     "data": {
      "image/png": "[encoded data removed]",
      "text/plain": [
       "<Figure size 1080x720 with 1 Axes>"
      ]
     },
     "metadata": {
      "needs_background": "light"
     },
     "output_type": "display_data"
    }
   ],
   "source": [
    "plt.figure(figsize=(15,10))\n",
    "sns.countplot(data=train_data, x='doors', hue='binaryClass')"
   ]
  },
  {
   "cell_type": "markdown",
   "id": "1a9ae2a9",
   "metadata": {},
   "source": [
    "Nothing stunning in the maintenance cost. All cars share the same maintenance costs. "
   ]
  },
  {
   "cell_type": "code",
   "execution_count": 248,
   "id": "7dc9bb1f",
   "metadata": {},
   "outputs": [
    {
     "data": {
      "text/plain": [
       "2       521\n",
       "more    521\n",
       "4       513\n",
       "Name: persons, dtype: int64"
      ]
     },
     "execution_count": 248,
     "metadata": {},
     "output_type": "execute_result"
    }
   ],
   "source": [
    "train_data['persons'].value_counts()"
   ]
  },
  {
   "cell_type": "code",
   "execution_count": 249,
   "id": "0965bc7e",
   "metadata": {},
   "outputs": [
    {
     "data": {
      "text/plain": [
       "<AxesSubplot:xlabel='persons', ylabel='count'>"
      ]
     },
     "execution_count": 249,
     "metadata": {},
     "output_type": "execute_result"
    },
    {
     "data": {
      "image/png": "[encoded data removed]",
      "text/plain": [
       "<Figure size 1080x720 with 1 Axes>"
      ]
     },
     "metadata": {
      "needs_background": "light"
     },
     "output_type": "display_data"
    }
   ],
   "source": [
    "plt.figure(figsize=(15,10))\n",
    "sns.countplot(data=train_data, x='persons', hue='binaryClass')"
   ]
  },
  {
   "cell_type": "code",
   "execution_count": 250,
   "id": "f8fbe08a",
   "metadata": {},
   "outputs": [
    {
     "data": {
      "text/plain": [
       "med      522\n",
       "small    517\n",
       "big      516\n",
       "Name: lug_boot, dtype: int64"
      ]
     },
     "execution_count": 250,
     "metadata": {},
     "output_type": "execute_result"
    }
   ],
   "source": [
    "train_data['lug_boot'].value_counts()"
   ]
  },
  {
   "cell_type": "code",
   "execution_count": 251,
   "id": "d7e678ef",
   "metadata": {},
   "outputs": [
    {
     "data": {
      "text/plain": [
       "<AxesSubplot:xlabel='lug_boot', ylabel='count'>"
      ]
     },
     "execution_count": 251,
     "metadata": {},
     "output_type": "execute_result"
    },
    {
     "data": {
      "image/png": "[encoded data removed]",
      "text/plain": [
       "<Figure size 1080x720 with 1 Axes>"
      ]
     },
     "metadata": {
      "needs_background": "light"
     },
     "output_type": "display_data"
    }
   ],
   "source": [
    "plt.figure(figsize=(15,10))\n",
    "sns.countplot(data=train_data, x='lug_boot', hue='binaryClass')"
   ]
  },
  {
   "cell_type": "code",
   "execution_count": 252,
   "id": "b645aa70",
   "metadata": {},
   "outputs": [
    {
     "data": {
      "text/plain": [
       "low     528\n",
       "high    514\n",
       "med     513\n",
       "Name: safety, dtype: int64"
      ]
     },
     "execution_count": 252,
     "metadata": {},
     "output_type": "execute_result"
    }
   ],
   "source": [
    "train_data['safety'].value_counts()"
   ]
  },
  {
   "cell_type": "code",
   "execution_count": 253,
   "id": "0bf059e9",
   "metadata": {},
   "outputs": [
    {
     "data": {
      "text/plain": [
       "<AxesSubplot:xlabel='safety', ylabel='count'>"
      ]
     },
     "execution_count": 253,
     "metadata": {},
     "output_type": "execute_result"
    },
    {
     "data": {
      "image/png": "[encoded data removed]",
      "text/plain": [
       "<Figure size 1080x720 with 1 Axes>"
      ]
     },
     "metadata": {
      "needs_background": "light"
     },
     "output_type": "display_data"
    }
   ],
   "source": [
    "plt.figure(figsize=(15,10))\n",
    "sns.countplot(data=train_data, x='safety', hue='binaryClass')"
   ]
  },
  {
   "cell_type": "code",
   "execution_count": 254,
   "id": "f978b550",
   "metadata": {},
   "outputs": [
    {
     "data": {
      "text/plain": [
       "P    1097\n",
       "N     458\n",
       "Name: binaryClass, dtype: int64"
      ]
     },
     "execution_count": 254,
     "metadata": {},
     "output_type": "execute_result"
    }
   ],
   "source": [
    "train_data['binaryClass'].value_counts()"
   ]
  },
  {
   "cell_type": "code",
   "execution_count": 255,
   "id": "7c7b7048",
   "metadata": {},
   "outputs": [
    {
     "data": {
      "text/plain": [
       "<AxesSubplot:xlabel='binaryClass', ylabel='count'>"
      ]
     },
     "execution_count": 255,
     "metadata": {},
     "output_type": "execute_result"
    },
    {
     "data": {
      "image/png": "[encoded data removed]",
      "text/plain": [
       "<Figure size 1080x720 with 1 Axes>"
      ]
     },
     "metadata": {
      "needs_background": "light"
     },
     "output_type": "display_data"
    }
   ],
   "source": [
    "plt.figure(figsize=(15,10))\n",
    "sns.countplot(data=train_data, x='binaryClass')"
   ]
  },
  {
   "cell_type": "markdown",
   "id": "341e0ea8",
   "metadata": {},
   "source": [
    "As you can see, our data is completely skewed/imbalanced. The positive examples are 2x more than negative examples. \n",
    "\n",
    "So we will remember during the model evaluation that accuracy is not the right metric in this case. Real world datasets comes with their unique blends, dataset can be imbalanced. Missing values can be present. We just have to find the effective way to deal with those issues. So again for evaluation, we will not rely on accuracy. "
   ]
  },
  {
   "cell_type": "markdown",
   "id": "e6733727",
   "metadata": {},
   "source": [
    "<a name='4'></a>\n",
    "\n",
    "## 4 - Data Preprocessing \n",
    "\n",
    "It is here that we prepare the data to be in the proper format for the machine learning model. \n",
    "\n",
    "### Handling Categorical Features\n",
    "\n",
    "Decision trees don't care if the features are scaled or not, and they can handle the categorical features. There is a [note on documentation](https://scikit-learn.org/stable/modules/tree.html#tree) that the sklearn tree implementation doesn't support categorical features, so I will go ahead and handle them. It's fun anyways :)"
   ]
  },
  {
   "cell_type": "markdown",
   "id": "9517b46f",
   "metadata": {},
   "source": [
    "Before handling categorical features, let's create a training input data and labels. "
   ]
  },
  {
   "cell_type": "code",
   "execution_count": 256,
   "id": "0766b45b",
   "metadata": {},
   "outputs": [],
   "source": [
    "car_train = train_data.drop('binaryClass', axis=1)\n",
    "car_labels = train_data[['binaryClass']]"
   ]
  },
  {
   "cell_type": "markdown",
   "id": "0768adae",
   "metadata": {},
   "source": [
    "Let's create a pipeline to encode all features in the training input data. "
   ]
  },
  {
   "cell_type": "code",
   "execution_count": 257,
   "id": "b7ee6d06",
   "metadata": {},
   "outputs": [],
   "source": [
    "from sklearn.preprocessing import OrdinalEncoder\n",
    "\n",
    "from sklearn.pipeline import Pipeline\n",
    "\n",
    "pipe = Pipeline([\n",
    "    ('ord_enc', OrdinalEncoder())\n",
    "    \n",
    "])\n",
    "\n",
    "car_train_prepared = pipe.fit_transform(car_train)"
   ]
  },
  {
   "cell_type": "markdown",
   "id": "dc414f79",
   "metadata": {},
   "source": [
    "Let's also handle labels. Labels contain P and N, so we want to convert those into numbers. Here instead of using Ordinary Encoder, we will use Label Encoder. Sklearn is explicity that it is used to encode target features. "
   ]
  },
  {
   "cell_type": "code",
   "execution_count": 258,
   "id": "b691edf1",
   "metadata": {},
   "outputs": [],
   "source": [
    "from sklearn.preprocessing import LabelEncoder\n",
    "\n",
    "\n",
    "label_enc = LabelEncoder()\n",
    "\n",
    "car_labels_prepared = label_enc.fit_transform(car_labels)"
   ]
  },
  {
   "cell_type": "markdown",
   "id": "dd496de6",
   "metadata": {},
   "source": [
    "<a name='5'></a>\n",
    "\n",
    "## 5 - Training Decision Tree Classifier\n"
   ]
  },
  {
   "cell_type": "code",
   "execution_count": 259,
   "id": "8311b87a",
   "metadata": {},
   "outputs": [
    {
     "data": {
      "text/plain": [
       "DecisionTreeClassifier()"
      ]
     },
     "execution_count": 259,
     "metadata": {},
     "output_type": "execute_result"
    }
   ],
   "source": [
    "from sklearn.tree import DecisionTreeClassifier\n",
    "\n",
    "tree_clf = DecisionTreeClassifier()\n",
    "\n",
    "tree_clf.fit(car_train_prepared, car_labels_prepared)"
   ]
  },
  {
   "cell_type": "markdown",
   "id": "757c0a01",
   "metadata": {},
   "source": [
    "Let's train the same model on the scaled data. "
   ]
  },
  {
   "cell_type": "code",
   "execution_count": 260,
   "id": "ea28474e",
   "metadata": {},
   "outputs": [],
   "source": [
    "# if you run this, it will be error. \n",
    "# SKlearn tree implementation doesn't support categorical features\n",
    "\n",
    "#from sklearn.tree import DecisionTreeClassifier\n",
    "\n",
    "#tree_clf = DecisionTreeClassifier()\n",
    "\n",
    "#tree_clf.fit(car_train, car_labels)"
   ]
  },
  {
   "cell_type": "markdown",
   "id": "9afb9bde",
   "metadata": {},
   "source": [
    "<a name='6'></a>\n",
    "\n",
    "## 6 - Evaluating Decision Trees\n",
    "\n",
    "Let's build 3 functions to display accuracy, confusion matrix, and classification report. Classification report contains all useful metrics such as precision, recall, and f1 score. "
   ]
  },
  {
   "cell_type": "code",
   "execution_count": 262,
   "id": "6962359e",
   "metadata": {},
   "outputs": [],
   "source": [
    "from sklearn.metrics import accuracy_score\n",
    "\n",
    "def accuracy(input_data,model,labels):\n",
    "    \"\"\"\n",
    "    Take the input data, model and labels and return accuracy\n",
    "    \n",
    "    \"\"\"\n",
    "    \n",
    "    preds = model.predict(input_data)\n",
    "    acc = accuracy_score(labels,preds)\n",
    "    \n",
    "    return acc"
   ]
  },
  {
   "cell_type": "code",
   "execution_count": 263,
   "id": "5321beb0",
   "metadata": {},
   "outputs": [],
   "source": [
    "from sklearn.metrics import confusion_matrix\n",
    "\n",
    "def conf_matrix(input_data,model,labels):\n",
    "    \"\"\"\n",
    "    Take the input data, model and labels and return confusion matrix\n",
    "    \n",
    "    \"\"\"\n",
    "    \n",
    "    preds = model.predict(input_data)\n",
    "    cm = confusion_matrix(labels,preds)\n",
    "    \n",
    "    return cm"
   ]
  },
  {
   "cell_type": "code",
   "execution_count": 264,
   "id": "12b6e547",
   "metadata": {},
   "outputs": [],
   "source": [
    "from sklearn.metrics import classification_report\n",
    "\n",
    "def class_report(input_data,model,labels):\n",
    "    \"\"\"\n",
    "    Take the input data, model and labels and return confusion matrix\n",
    "    \n",
    "    \"\"\"\n",
    "    \n",
    "    preds = model.predict(input_data)\n",
    "    report = classification_report(labels,preds)\n",
    "    report = print(report)\n",
    "    \n",
    "    return report"
   ]
  },
  {
   "cell_type": "markdown",
   "id": "0a052ed6",
   "metadata": {},
   "source": [
    "Let's find the accuracy on the training set. "
   ]
  },
  {
   "cell_type": "code",
   "execution_count": 265,
   "id": "a17fed16",
   "metadata": {},
   "outputs": [
    {
     "data": {
      "text/plain": [
       "1.0"
      ]
     },
     "execution_count": 265,
     "metadata": {},
     "output_type": "execute_result"
    }
   ],
   "source": [
    "accuracy(car_train_prepared, tree_clf, car_labels_prepared)"
   ]
  },
  {
   "cell_type": "markdown",
   "id": "fbeda399",
   "metadata": {},
   "source": [
    "Ohh, see! The decision trees overfitted the dataset. Also if we remember well, our data is not balanced. We have many positive examples than negative examples. "
   ]
  },
  {
   "cell_type": "code",
   "execution_count": 266,
   "id": "b7b71a96",
   "metadata": {},
   "outputs": [
    {
     "data": {
      "text/plain": [
       "array([[ 458,    0],\n",
       "       [   0, 1097]])"
      ]
     },
     "execution_count": 266,
     "metadata": {},
     "output_type": "execute_result"
    }
   ],
   "source": [
    "conf_matrix(car_train_prepared, tree_clf, car_labels_prepared)"
   ]
  },
  {
   "cell_type": "code",
   "execution_count": 267,
   "id": "1e7d0797",
   "metadata": {},
   "outputs": [
    {
     "name": "stdout",
     "output_type": "stream",
     "text": [
      "              precision    recall  f1-score   support\n",
      "\n",
      "           0       1.00      1.00      1.00       458\n",
      "           1       1.00      1.00      1.00      1097\n",
      "\n",
      "    accuracy                           1.00      1555\n",
      "   macro avg       1.00      1.00      1.00      1555\n",
      "weighted avg       1.00      1.00      1.00      1555\n",
      "\n"
     ]
    }
   ],
   "source": [
    "class_report(car_train_prepared, tree_clf, car_labels_prepared)"
   ]
  },
  {
   "cell_type": "markdown",
   "id": "54f6022d",
   "metadata": {},
   "source": [
    "The model clearly overfitted the data. Let's see how we can regularize it. "
   ]
  },
  {
   "cell_type": "markdown",
   "id": "66a574a5",
   "metadata": {},
   "source": [
    "<a name='7'></a>\n",
    "\n",
    "## 7 - Improving Decision Trees"
   ]
  },
  {
   "cell_type": "code",
   "execution_count": 268,
   "id": "0f92566d",
   "metadata": {},
   "outputs": [
    {
     "data": {
      "text/plain": [
       "{'ccp_alpha': 0.0,\n",
       " 'class_weight': None,\n",
       " 'criterion': 'gini',\n",
       " 'max_depth': None,\n",
       " 'max_features': None,\n",
       " 'max_leaf_nodes': None,\n",
       " 'min_impurity_decrease': 0.0,\n",
       " 'min_impurity_split': None,\n",
       " 'min_samples_leaf': 1,\n",
       " 'min_samples_split': 2,\n",
       " 'min_weight_fraction_leaf': 0.0,\n",
       " 'random_state': None,\n",
       " 'splitter': 'best'}"
      ]
     },
     "execution_count": 268,
     "metadata": {},
     "output_type": "execute_result"
    }
   ],
   "source": [
    "tree_clf.get_params()"
   ]
  },
  {
   "cell_type": "markdown",
   "id": "af110f75",
   "metadata": {},
   "source": [
    "One way to avoid overfitting is reduce number maximum depth of the tree, set by the hyperparameter `max_depth`. Similarly, we can attempt to reduce all hyperparameters with `max`term while also increasing the `min_` term parameters. \n",
    "\n",
    "Also, I set the `class_weight` to `balanced` because our dataset is imbalanced. By setting it to balanced, the model will automatically adjust the class weight based on the number of available samples in all classes. \n",
    "\n",
    "\n",
    "Let's use GridSearch to find best values of these hyperparameters. "
   ]
  },
  {
   "cell_type": "code",
   "execution_count": 269,
   "id": "18f52052",
   "metadata": {},
   "outputs": [],
   "source": [
    "# Let's hide warnings returned by grid search\n",
    "\n",
    "import warnings\n",
    "warnings.filterwarnings('ignore')"
   ]
  },
  {
   "cell_type": "code",
   "execution_count": 270,
   "id": "056818ed",
   "metadata": {},
   "outputs": [
    {
     "name": "stdout",
     "output_type": "stream",
     "text": [
      "Fitting 3 folds for each of 5400 candidates, totalling 16200 fits\n"
     ]
    },
    {
     "data": {
      "text/plain": [
       "GridSearchCV(cv=3,\n",
       "             estimator=DecisionTreeClassifier(class_weight='balanced',\n",
       "                                              random_state=42),\n",
       "             param_grid={'max_depth': [0, 1, 2, 3, 4, 5],\n",
       "                         'max_features': [0, 1, 2, 3, 4, 5],\n",
       "                         'max_leaf_nodes': [0, 1, 2, 3, 4, 5],\n",
       "                         'min_samples_leaf': [0, 1, 2, 3, 4],\n",
       "                         'min_samples_split': [0, 1, 2, 3, 4]},\n",
       "             verbose=1)"
      ]
     },
     "execution_count": 270,
     "metadata": {},
     "output_type": "execute_result"
    }
   ],
   "source": [
    "from sklearn.model_selection import GridSearchCV\n",
    "\n",
    "params_grid = {'max_leaf_nodes': list(range(0, 10)), \n",
    "               'min_samples_split': [0,1,2, 3, 4], \n",
    "               'min_samples_leaf': [0,1,2, 3, 4], \n",
    "               'max_depth':[0,1,2,3,4,5],\n",
    "               'max_features':[0,1,2,3,4,5],\n",
    "              'max_leaf_nodes':[0,1,2,3,4,5]}\n",
    "\n",
    "#refit is true by default. The best estimator is trained on the whole dataset \n",
    "\n",
    "grid_search = GridSearchCV(DecisionTreeClassifier(random_state=42, class_weight='balanced'), params_grid, verbose=1, cv=3, refit=True)\n",
    "\n",
    "grid_search.fit(car_train_prepared, car_labels_prepared)"
   ]
  },
  {
   "cell_type": "code",
   "execution_count": 271,
   "id": "55a5d7f3",
   "metadata": {},
   "outputs": [
    {
     "data": {
      "text/plain": [
       "{'max_depth': 4,\n",
       " 'max_features': 5,\n",
       " 'max_leaf_nodes': 5,\n",
       " 'min_samples_leaf': 1,\n",
       " 'min_samples_split': 2}"
      ]
     },
     "execution_count": 271,
     "metadata": {},
     "output_type": "execute_result"
    }
   ],
   "source": [
    "grid_search.best_params_"
   ]
  },
  {
   "cell_type": "code",
   "execution_count": 272,
   "id": "c4a1488d",
   "metadata": {},
   "outputs": [
    {
     "data": {
      "text/plain": [
       "DecisionTreeClassifier(class_weight='balanced', max_depth=4, max_features=5,\n",
       "                       max_leaf_nodes=5, random_state=42)"
      ]
     },
     "execution_count": 272,
     "metadata": {},
     "output_type": "execute_result"
    }
   ],
   "source": [
    "grid_search.best_estimator_"
   ]
  },
  {
   "cell_type": "code",
   "execution_count": 273,
   "id": "4995ab2d",
   "metadata": {},
   "outputs": [],
   "source": [
    "tree_best = grid_search.best_estimator_"
   ]
  },
  {
   "cell_type": "markdown",
   "id": "0631c68d",
   "metadata": {},
   "source": [
    "We can also plot the tree of the improved model. "
   ]
  },
  {
   "cell_type": "code",
   "execution_count": 298,
   "id": "bb3a6292",
   "metadata": {},
   "outputs": [
    {
     "data": {
      "text/plain": [
       "Index(['buying', 'maint', 'doors', 'persons', 'lug_boot', 'safety',\n",
       "       'binaryClass'],\n",
       "      dtype='object')"
      ]
     },
     "execution_count": 298,
     "metadata": {},
     "output_type": "execute_result"
    }
   ],
   "source": [
    "car_data.columns"
   ]
  },
  {
   "cell_type": "code",
   "execution_count": 303,
   "id": "bc930bc3",
   "metadata": {},
   "outputs": [
    {
     "data": {
      "image/png": "[encoded data removed]",
      "text/plain": [
       "<Figure size 1440x1080 with 1 Axes>"
      ]
     },
     "metadata": {
      "needs_background": "light"
     },
     "output_type": "display_data"
    }
   ],
   "source": [
    "from sklearn.tree import plot_tree\n",
    "\n",
    "plt.figure(figsize=(20,15))\n",
    "plot_tree(tree_best, feature_names=car_train.columns, class_names=['N','P']);"
   ]
  },
  {
   "cell_type": "markdown",
   "id": "44fc64ef",
   "metadata": {},
   "source": [
    "Let's make prediction on the training data again."
   ]
  },
  {
   "cell_type": "code",
   "execution_count": 274,
   "id": "85b1b211",
   "metadata": {},
   "outputs": [
    {
     "data": {
      "text/plain": [
       "0.8926045016077171"
      ]
     },
     "execution_count": 274,
     "metadata": {},
     "output_type": "execute_result"
    }
   ],
   "source": [
    "accuracy(car_train_prepared, tree_best, car_labels_prepared)"
   ]
  },
  {
   "cell_type": "code",
   "execution_count": 275,
   "id": "d6e03505",
   "metadata": {},
   "outputs": [
    {
     "data": {
      "text/plain": [
       "array([[430,  28],\n",
       "       [139, 958]])"
      ]
     },
     "execution_count": 275,
     "metadata": {},
     "output_type": "execute_result"
    }
   ],
   "source": [
    "conf_matrix(car_train_prepared, tree_best, car_labels_prepared)"
   ]
  },
  {
   "cell_type": "markdown",
   "id": "5fd20f6c",
   "metadata": {},
   "source": [
    "In confusion matrix, each row represent an actual class and each column represents predicted class. \n",
    "\n",
    "So, from the results above:\n",
    "\n",
    "* 430 negative examples(N) were correcty predicted as negatives(`true negatives`).\n",
    "* 28 negatives examples(N) were incorrectly classified as positive examples when they are in fact negatives(`false positives`).\n",
    "* 139 positive examples were incorrectly classified as negative(N) when in fact they are positives(P) (`false negatives`).\n",
    "* 958 were correctly classified as positive examples(`true positives`). "
   ]
  },
  {
   "cell_type": "code",
   "execution_count": 276,
   "id": "bfe10646",
   "metadata": {},
   "outputs": [
    {
     "name": "stdout",
     "output_type": "stream",
     "text": [
      "              precision    recall  f1-score   support\n",
      "\n",
      "           0       0.76      0.94      0.84       458\n",
      "           1       0.97      0.87      0.92      1097\n",
      "\n",
      "    accuracy                           0.89      1555\n",
      "   macro avg       0.86      0.91      0.88      1555\n",
      "weighted avg       0.91      0.89      0.90      1555\n",
      "\n"
     ]
    }
   ],
   "source": [
    "class_report(car_train_prepared, tree_best, car_labels_prepared)"
   ]
  },
  {
   "cell_type": "markdown",
   "id": "c62a574a",
   "metadata": {},
   "source": [
    "Wow, this is much better. By only setting the class weight to `balanced` and finding the best values of the hyperparameters, we were able to improve our model. \n",
    "\n",
    "If you remember, the negative class has fewer examples than the positive classes. You can see them in `support` in classification report. But our model is able to identify them correctly at 76%, and also is able to identify the positive examples at 97% without overfitting. That is precision. \n",
    "\n",
    "A few notes about Precison/Recall/F1 score:\n",
    "\n",
    "* Precision is the model accuracy on predicting positive examples correctly. \n",
    "* Recall is the ratio of the positive examples that are correctly identified by the model. \n",
    "\n",
    "* F1 score is the harmonic mean of precision and recall. \n",
    "\n",
    "The higher the precision and recall are, the higher the F1 score. But there is a tradeoff between them. Increasing precision will reduce recall, and vice versa. So it's fair to say that it depends on the problem you're trying to solve and the metrics you want to optimize for. \n"
   ]
  },
  {
   "cell_type": "markdown",
   "id": "d96d0b2f",
   "metadata": {},
   "source": [
    "### Evaluating the model on the test set"
   ]
  },
  {
   "cell_type": "markdown",
   "id": "21d18db2",
   "metadata": {},
   "source": [
    "It is only after we have improved the model that we can feed it to the test set. If we try to show the test set to the model while we are still training, we may cause a potential leak thus producing misleading predictions. \n",
    "\n",
    "Also, we will apply the same processing functions that we applied to the training set. "
   ]
  },
  {
   "cell_type": "code",
   "execution_count": 277,
   "id": "3e4f6abb",
   "metadata": {},
   "outputs": [],
   "source": [
    "car_test = test_data.drop('binaryClass', axis=1)\n",
    "car_test_labels = test_data['binaryClass']"
   ]
  },
  {
   "cell_type": "code",
   "execution_count": 278,
   "id": "18686a6d",
   "metadata": {},
   "outputs": [],
   "source": [
    "# Handling the categorical features with the pipeline that we defined early\n",
    "# We don't fit on the test data. Only transform\n",
    "\n",
    "car_test_prepared = pipe.transform(car_test)"
   ]
  },
  {
   "cell_type": "code",
   "execution_count": 279,
   "id": "4e320e33",
   "metadata": {},
   "outputs": [],
   "source": [
    "# Handle labels too\n",
    "\n",
    "car_test_labels_prepared = label_enc.transform(car_test_labels)"
   ]
  },
  {
   "cell_type": "markdown",
   "id": "f12a3457",
   "metadata": {},
   "source": [
    "Now we can make predictions on the test set. We will only have to call the metrics functions we created previously. "
   ]
  },
  {
   "cell_type": "code",
   "execution_count": 280,
   "id": "b0ead3bd",
   "metadata": {},
   "outputs": [
    {
     "data": {
      "text/plain": [
       "0.8554913294797688"
      ]
     },
     "execution_count": 280,
     "metadata": {},
     "output_type": "execute_result"
    }
   ],
   "source": [
    "accuracy(car_test_prepared, tree_best, car_test_labels_prepared)"
   ]
  },
  {
   "cell_type": "code",
   "execution_count": 281,
   "id": "8d5414f6",
   "metadata": {},
   "outputs": [
    {
     "data": {
      "text/plain": [
       "array([[53,  7],\n",
       "       [18, 95]])"
      ]
     },
     "execution_count": 281,
     "metadata": {},
     "output_type": "execute_result"
    }
   ],
   "source": [
    "conf_matrix(car_test_prepared, tree_best, car_test_labels_prepared)"
   ]
  },
  {
   "cell_type": "code",
   "execution_count": 282,
   "id": "0c63170a",
   "metadata": {},
   "outputs": [
    {
     "name": "stdout",
     "output_type": "stream",
     "text": [
      "              precision    recall  f1-score   support\n",
      "\n",
      "           0       0.75      0.88      0.81        60\n",
      "           1       0.93      0.84      0.88       113\n",
      "\n",
      "    accuracy                           0.86       173\n",
      "   macro avg       0.84      0.86      0.85       173\n",
      "weighted avg       0.87      0.86      0.86       173\n",
      "\n"
     ]
    }
   ],
   "source": [
    "class_report(car_test_prepared, tree_best, car_test_labels_prepared)"
   ]
  },
  {
   "cell_type": "markdown",
   "id": "2c7eda1f",
   "metadata": {},
   "source": [
    "The model never saw the test set but as you can see, the results are truly remarkable. The model can generalize well on the test set and that is because we improved it in the right ways. "
   ]
  },
  {
   "cell_type": "markdown",
   "id": "c7e86c6d",
   "metadata": {},
   "source": [
    "This is the end of the notebook. We have learned how to build and how to regularize( or handle overfitting) the decion trees classifier. "
   ]
  },
  {
   "cell_type": "markdown",
   "id": "17af5728",
   "metadata": {},
   "source": [
    "[Back to top](#0)"
   ]
  },
  {
   "cell_type": "code",
   "execution_count": null,
   "id": "620a4d3e",
   "metadata": {},
   "outputs": [],
   "source": []
  }
 ],
 "metadata": {
  "kernelspec": {
   "display_name": "Python 3.7.10 64-bit ('tensor': conda)",
   "language": "python",
   "name": "python3710jvsc74a57bd034ac5db714c5906ee087fcf6e2d00ee4febf096586592b6ba3662ed3b7e7a5f6"
  },
  "language_info": {
   "codemirror_mode": {
    "name": "ipython",
    "version": 3
   },
   "file_extension": ".py",
   "mimetype": "text/x-python",
   "name": "python",
   "nbconvert_exporter": "python",
   "pygments_lexer": "ipython3",
   "version": "3.7.10"
  }
 },
 "nbformat": 4,
 "nbformat_minor": 5
}
