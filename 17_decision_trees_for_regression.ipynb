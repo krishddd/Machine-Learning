{
 "cells": [
  {
   "cell_type": "markdown",
   "id": "2f003044",
   "metadata": {},
   "source": [
    "<table align=\"left\">\n",
    "  <td>\n",
    "    <a href=\"https://colab.research.google.com/github/nyandwi/machine_learning_complete/blob/main/6_classical_machine_learning_with_scikit-learn/5_decision_trees_for_regression.ipynb\" target=\"_parent\"><img src=\"https://colab.research.google.com/assets/colab-badge.svg\" alt=\"Open In Colab\"/></a>\n",
    "  </td>\n",
    "</table>"
   ]
  },
  {
   "cell_type": "markdown",
   "id": "bf67852e",
   "metadata": {},
   "source": [
    "*This notebook was created by [Jean de Dieu Nyandwi](https://twitter.com/jeande_d) for the love of machine learning community. For any feedback, errors or suggestion, he can be reached on email (johnjw7084 at gmail dot com), [Twitter](https://twitter.com/jeande_d), or [LinkedIn](https://linkedin.com/in/nyandwi).*"
   ]
  },
  {
   "cell_type": "markdown",
   "id": "7c5ba4fe",
   "metadata": {},
   "source": [
    "<a name='0'></a>\n",
    "# Decision Trees - Intro and Regression"
   ]
  },
  {
   "cell_type": "markdown",
   "id": "07494ffb",
   "metadata": {},
   "source": [
    "Decision Trees are supervised machine learning algorithms that are used for both regression and classification tasks. Trees are powerful algorithms that can handle complex datasets. \n",
    "\n",
    "Here are 7 interesting facts about decision trees:\n",
    "\n",
    "* They do not need the numerical input data to be scaled. Whatever the numerical values are, decision trees don't care. \n",
    "\n",
    "* Decision trees handle categorical features in the raw text format (Scikit-Learn doesn't support this, TensorFlow's trees implementation does).\n",
    "\n",
    "* Different to other complex learning algorithms, the results of decision trees can be interpreted. It's fair to say that decision trees are not blackbox type models. \n",
    "* While most models will suffer from missing values, decision trees are okay with them.\n",
    "* Trees can handle imbalanced datasets. You will only have to adjust the weights of the classes.\n",
    "* Trees can provide the feature importances or how much each feature contributed to the model training results.\n",
    "* Trees are the basic building blocks of ensemble methods such as random forests and gradient boosting machines.\n",
    "\n",
    "The way decision trees works is like the series of if/else questions. Let's say that you want to make a decision of the car to buy. In order to get the right car to buy, you could go on and evaluate the level of the safety, the number of sits and doors by asking series of if like questions. \n",
    "\n",
    "Here is the structure of the decision trees.\n",
    "\n",
    "![Decision Trees.png](https://cdn.hashnode.com/res/hashnode/image/upload/v1632212349927/4XijLSXib.png)\n",
    "\n",
    "\n",
    "A well-known downside of decision trees is that they tend to overfit the data easily(pretty much assumed they will always overfit at first). One way to overcome overfitting is to reduce the maximum depth of the decision tree (refered to as `max_depth`hyperparameter) in decision trees. We will see other techniques to avoid overfitting. \n",
    "\n",
    "To motivate the superpower of decision trees, let's use it for a regression task where instead of predicting class, we are predicting a continous value. In the next lab, we will use them for classification. "
   ]
  },
  {
   "cell_type": "markdown",
   "id": "d4e2c5a6",
   "metadata": {},
   "source": [
    "## Decision Trees for Regression"
   ]
  },
  {
   "cell_type": "markdown",
   "id": "ae5e8372",
   "metadata": {},
   "source": [
    "### Contents\n",
    "\n",
    "* [1 - Imports](#1)\n",
    "* [2 - Loading the data](#2)\n",
    "* [3 - Exploratory Analysis](#3)\n",
    "* [4 - Preprocessing the data](#4)\n",
    "* [5 - Training Decision Trees](#5)\n",
    "* [6 - Evaluating Decision Trees](#6)\n",
    "* [7 - Improving Decision Trees](#7)"
   ]
  },
  {
   "cell_type": "markdown",
   "id": "99058d12",
   "metadata": {},
   "source": [
    "<a name='1'></a>\n",
    "## 1 - Imports"
   ]
  },
  {
   "cell_type": "code",
   "execution_count": 1,
   "id": "df278c5f",
   "metadata": {},
   "outputs": [],
   "source": [
    "import numpy as np\n",
    "import pandas as pd\n",
    "import seaborn as sns\n",
    "import sklearn\n",
    "import matplotlib.pyplot as plt\n",
    "%matplotlib inline"
   ]
  },
  {
   "cell_type": "markdown",
   "id": "35699c38",
   "metadata": {},
   "source": [
    "<a name='2'></a>\n",
    "\n",
    "## 2 - Loading the data\n",
    "\n",
    "In this regression task with decision trees, we will use the Machine CPU (Central Processing Unit) data which is avilable at [OpenML](https://www.openml.org/t/5492). We will load it with Sklearn `fetch_openml` function. \n",
    "\n",
    "If you are reading this, it's very likely that you know CPU or you have once(or many times) thought about it when you were buying your computer. In this notebook, we will predict the relative performance of the CPU given the following data: \n",
    "\n",
    "* MYCT: machine cycle time in nanoseconds (integer)\n",
    "* MMIN: minimum main memory in kilobytes (integer)\n",
    "* MMAX: maximum main memory in kilobytes (integer)\n",
    "* CACH: cache memory in kilobytes (integer)\n",
    "* CHMIN: minimum channels in units (integer)\n",
    "* CHMAX: maximum channels in units (integer)\n",
    "* PRP: published relative performance (integer) (target variable)"
   ]
  },
  {
   "cell_type": "code",
   "execution_count": 2,
   "id": "67905ee6",
   "metadata": {},
   "outputs": [],
   "source": [
    "# Let's hide warnings\n",
    "\n",
    "import warnings\n",
    "warnings.filterwarnings('ignore')"
   ]
  },
  {
   "cell_type": "code",
   "execution_count": 3,
   "id": "d3083946",
   "metadata": {},
   "outputs": [],
   "source": [
    "from sklearn.datasets import fetch_openml\n",
    "\n",
    "machine_cpu = fetch_openml(name='machine_cpu')"
   ]
  },
  {
   "cell_type": "code",
   "execution_count": 4,
   "id": "46c09852",
   "metadata": {},
   "outputs": [
    {
     "data": {
      "text/plain": [
       "sklearn.utils.Bunch"
      ]
     },
     "execution_count": 4,
     "metadata": {},
     "output_type": "execute_result"
    }
   ],
   "source": [
    "type(machine_cpu)"
   ]
  },
  {
   "cell_type": "code",
   "execution_count": 5,
   "id": "154ed67e",
   "metadata": {},
   "outputs": [
    {
     "data": {
      "text/plain": [
       "(209, 6)"
      ]
     },
     "execution_count": 5,
     "metadata": {},
     "output_type": "execute_result"
    }
   ],
   "source": [
    "machine_cpu.data.shape"
   ]
  },
  {
   "cell_type": "code",
   "execution_count": 6,
   "id": "69e438fb",
   "metadata": {},
   "outputs": [
    {
     "name": "stdout",
     "output_type": "stream",
     "text": [
      "**Author**:   \n",
      "**Source**: Unknown -   \n",
      "**Please cite**:   \n",
      "\n",
      "The problem concerns Relative CPU Performance Data. More information can be obtained in the UCI Machine\n",
      " Learning repository (http://www.ics.uci.edu/~mlearn/MLSummary.html).\n",
      " The used attributes are :\n",
      " MYCT: machine cycle time in nanoseconds (integer)\n",
      " MMIN: minimum main memory in kilobytes (integer)\n",
      " MMAX: maximum main memory in kilobytes (integer)\n",
      " CACH: cache memory in kilobytes (integer)\n",
      " CHMIN: minimum channels in units (integer)\n",
      " CHMAX: maximum channels in units (integer)\n",
      " PRP: published relative performance (integer) (target variable)\n",
      " \n",
      " Original source: UCI machine learning repository. \n",
      " Source: collection of regression datasets by Luis Torgo (ltorgo@ncc.up.pt) at\n",
      " http://www.ncc.up.pt/~ltorgo/Regression/DataSets.html\n",
      " Characteristics: 209 cases; 6 continuous variables\n",
      "\n",
      "Downloaded from openml.org.\n"
     ]
    }
   ],
   "source": [
    "print(machine_cpu.DESCR)"
   ]
  },
  {
   "cell_type": "code",
   "execution_count": 7,
   "id": "d7180991",
   "metadata": {},
   "outputs": [
    {
     "data": {
      "text/plain": [
       "['MYCT', 'MMIN', 'MMAX', 'CACH', 'CHMIN', 'CHMAX']"
      ]
     },
     "execution_count": 7,
     "metadata": {},
     "output_type": "execute_result"
    }
   ],
   "source": [
    "# Displaying feature names\n",
    "\n",
    "machine_cpu.feature_names"
   ]
  },
  {
   "cell_type": "code",
   "execution_count": 8,
   "id": "e3ba092e",
   "metadata": {},
   "outputs": [
    {
     "data": {
      "text/html": [
       "<div>\n",
       "<style scoped>\n",
       "    .dataframe tbody tr th:only-of-type {\n",
       "        vertical-align: middle;\n",
       "    }\n",
       "\n",
       "    .dataframe tbody tr th {\n",
       "        vertical-align: top;\n",
       "    }\n",
       "\n",
       "    .dataframe thead th {\n",
       "        text-align: right;\n",
       "    }\n",
       "</style>\n",
       "<table border=\"1\" class=\"dataframe\">\n",
       "  <thead>\n",
       "    <tr style=\"text-align: right;\">\n",
       "      <th></th>\n",
       "      <th>MYCT</th>\n",
       "      <th>MMIN</th>\n",
       "      <th>MMAX</th>\n",
       "      <th>CACH</th>\n",
       "      <th>CHMIN</th>\n",
       "      <th>CHMAX</th>\n",
       "      <th>class</th>\n",
       "    </tr>\n",
       "  </thead>\n",
       "  <tbody>\n",
       "    <tr>\n",
       "      <th>0</th>\n",
       "      <td>125.0</td>\n",
       "      <td>256.0</td>\n",
       "      <td>6000.0</td>\n",
       "      <td>256.0</td>\n",
       "      <td>16.0</td>\n",
       "      <td>128.0</td>\n",
       "      <td>198.0</td>\n",
       "    </tr>\n",
       "    <tr>\n",
       "      <th>1</th>\n",
       "      <td>29.0</td>\n",
       "      <td>8000.0</td>\n",
       "      <td>32000.0</td>\n",
       "      <td>32.0</td>\n",
       "      <td>8.0</td>\n",
       "      <td>32.0</td>\n",
       "      <td>269.0</td>\n",
       "    </tr>\n",
       "    <tr>\n",
       "      <th>2</th>\n",
       "      <td>29.0</td>\n",
       "      <td>8000.0</td>\n",
       "      <td>32000.0</td>\n",
       "      <td>32.0</td>\n",
       "      <td>8.0</td>\n",
       "      <td>32.0</td>\n",
       "      <td>220.0</td>\n",
       "    </tr>\n",
       "    <tr>\n",
       "      <th>3</th>\n",
       "      <td>29.0</td>\n",
       "      <td>8000.0</td>\n",
       "      <td>32000.0</td>\n",
       "      <td>32.0</td>\n",
       "      <td>8.0</td>\n",
       "      <td>32.0</td>\n",
       "      <td>172.0</td>\n",
       "    </tr>\n",
       "    <tr>\n",
       "      <th>4</th>\n",
       "      <td>29.0</td>\n",
       "      <td>8000.0</td>\n",
       "      <td>16000.0</td>\n",
       "      <td>32.0</td>\n",
       "      <td>8.0</td>\n",
       "      <td>16.0</td>\n",
       "      <td>132.0</td>\n",
       "    </tr>\n",
       "    <tr>\n",
       "      <th>...</th>\n",
       "      <td>...</td>\n",
       "      <td>...</td>\n",
       "      <td>...</td>\n",
       "      <td>...</td>\n",
       "      <td>...</td>\n",
       "      <td>...</td>\n",
       "      <td>...</td>\n",
       "    </tr>\n",
       "    <tr>\n",
       "      <th>204</th>\n",
       "      <td>124.0</td>\n",
       "      <td>1000.0</td>\n",
       "      <td>8000.0</td>\n",
       "      <td>0.0</td>\n",
       "      <td>1.0</td>\n",
       "      <td>8.0</td>\n",
       "      <td>42.0</td>\n",
       "    </tr>\n",
       "    <tr>\n",
       "      <th>205</th>\n",
       "      <td>98.0</td>\n",
       "      <td>1000.0</td>\n",
       "      <td>8000.0</td>\n",
       "      <td>32.0</td>\n",
       "      <td>2.0</td>\n",
       "      <td>8.0</td>\n",
       "      <td>46.0</td>\n",
       "    </tr>\n",
       "    <tr>\n",
       "      <th>206</th>\n",
       "      <td>125.0</td>\n",
       "      <td>2000.0</td>\n",
       "      <td>8000.0</td>\n",
       "      <td>0.0</td>\n",
       "      <td>2.0</td>\n",
       "      <td>14.0</td>\n",
       "      <td>52.0</td>\n",
       "    </tr>\n",
       "    <tr>\n",
       "      <th>207</th>\n",
       "      <td>480.0</td>\n",
       "      <td>512.0</td>\n",
       "      <td>8000.0</td>\n",
       "      <td>32.0</td>\n",
       "      <td>0.0</td>\n",
       "      <td>0.0</td>\n",
       "      <td>67.0</td>\n",
       "    </tr>\n",
       "    <tr>\n",
       "      <th>208</th>\n",
       "      <td>480.0</td>\n",
       "      <td>1000.0</td>\n",
       "      <td>4000.0</td>\n",
       "      <td>0.0</td>\n",
       "      <td>0.0</td>\n",
       "      <td>0.0</td>\n",
       "      <td>45.0</td>\n",
       "    </tr>\n",
       "  </tbody>\n",
       "</table>\n",
       "<p>209 rows × 7 columns</p>\n",
       "</div>"
      ],
      "text/plain": [
       "      MYCT    MMIN     MMAX   CACH  CHMIN  CHMAX  class\n",
       "0    125.0   256.0   6000.0  256.0   16.0  128.0  198.0\n",
       "1     29.0  8000.0  32000.0   32.0    8.0   32.0  269.0\n",
       "2     29.0  8000.0  32000.0   32.0    8.0   32.0  220.0\n",
       "3     29.0  8000.0  32000.0   32.0    8.0   32.0  172.0\n",
       "4     29.0  8000.0  16000.0   32.0    8.0   16.0  132.0\n",
       "..     ...     ...      ...    ...    ...    ...    ...\n",
       "204  124.0  1000.0   8000.0    0.0    1.0    8.0   42.0\n",
       "205   98.0  1000.0   8000.0   32.0    2.0    8.0   46.0\n",
       "206  125.0  2000.0   8000.0    0.0    2.0   14.0   52.0\n",
       "207  480.0   512.0   8000.0   32.0    0.0    0.0   67.0\n",
       "208  480.0  1000.0   4000.0    0.0    0.0    0.0   45.0\n",
       "\n",
       "[209 rows x 7 columns]"
      ]
     },
     "execution_count": 8,
     "metadata": {},
     "output_type": "execute_result"
    }
   ],
   "source": [
    "# Getting the whole dataframe\n",
    "\n",
    "machine_cpu.frame"
   ]
  },
  {
   "cell_type": "markdown",
   "id": "88b6b4ae",
   "metadata": {},
   "source": [
    "Now, let's get the data and labels. "
   ]
  },
  {
   "cell_type": "code",
   "execution_count": 9,
   "id": "59f873c7",
   "metadata": {},
   "outputs": [],
   "source": [
    "machine_data = machine_cpu.data\n",
    "machine_labels = machine_cpu.target"
   ]
  },
  {
   "cell_type": "code",
   "execution_count": 10,
   "id": "ef5bf335",
   "metadata": {},
   "outputs": [
    {
     "data": {
      "text/plain": [
       "pandas.core.frame.DataFrame"
      ]
     },
     "execution_count": 10,
     "metadata": {},
     "output_type": "execute_result"
    }
   ],
   "source": [
    "type(machine_data)"
   ]
  },
  {
   "cell_type": "code",
   "execution_count": 11,
   "id": "2f05b049",
   "metadata": {},
   "outputs": [
    {
     "data": {
      "text/plain": [
       "pandas.core.series.Series"
      ]
     },
     "execution_count": 11,
     "metadata": {},
     "output_type": "execute_result"
    }
   ],
   "source": [
    "type(machine_labels)"
   ]
  },
  {
   "cell_type": "markdown",
   "id": "c492fd93",
   "metadata": {},
   "source": [
    "<a name='3'></a>\n",
    "## 3 - Exploratory Analysis\n"
   ]
  },
  {
   "cell_type": "markdown",
   "id": "e9906083",
   "metadata": {},
   "source": [
    "Before doing exploratory analysis, let's get the training and test data. "
   ]
  },
  {
   "cell_type": "code",
   "execution_count": 12,
   "id": "98d74144",
   "metadata": {},
   "outputs": [
    {
     "name": "stdout",
     "output_type": "stream",
     "text": [
      "The size of training data is: 167 \n",
      "The size of testing data is: 42\n"
     ]
    }
   ],
   "source": [
    "from sklearn.model_selection import train_test_split\n",
    "\n",
    "X_train, X_test, y_train, y_test = train_test_split(machine_data,machine_labels, test_size=0.2,random_state=20)\n",
    "\n",
    "print('The size of training data is: {} \\nThe size of testing data is: {}'.format(len(X_train), len(X_test)))"
   ]
  },
  {
   "cell_type": "markdown",
   "id": "c3fc640e",
   "metadata": {},
   "source": [
    "Let's visualize the histograms of all numeric features. "
   ]
  },
  {
   "cell_type": "code",
   "execution_count": 13,
   "id": "04856278",
   "metadata": {},
   "outputs": [
    {
     "data": {
      "image/png": "[encoded data removed]",
      "text/plain": [
       "<Figure size 1080x720 with 6 Axes>"
      ]
     },
     "metadata": {
      "needs_background": "light"
     },
     "output_type": "display_data"
    }
   ],
   "source": [
    "X_train.hist(bins=50, figsize=(15,10))\n",
    "plt.show()"
   ]
  },
  {
   "cell_type": "markdown",
   "id": "5eca7747",
   "metadata": {},
   "source": [
    "Or we can quickly use `sns.pairplot()` to look into the data. "
   ]
  },
  {
   "cell_type": "code",
   "execution_count": 14,
   "id": "803a1d12",
   "metadata": {},
   "outputs": [
    {
     "data": {
      "text/plain": [
       "<seaborn.axisgrid.PairGrid at 0x7fa53396ab90>"
      ]
     },
     "execution_count": 14,
     "metadata": {},
     "output_type": "execute_result"
    },
    {
     "data": {
      "image/png": "[encoded data removed]",
      "text/plain": [
       "<Figure size 1080x1080 with 42 Axes>"
      ]
     },
     "metadata": {
      "needs_background": "light"
     },
     "output_type": "display_data"
    }
   ],
   "source": [
    "sns.pairplot(X_train)"
   ]
  },
  {
   "cell_type": "code",
   "execution_count": 15,
   "id": "753bb539",
   "metadata": {},
   "outputs": [
    {
     "data": {
      "text/html": [
       "<div>\n",
       "<style scoped>\n",
       "    .dataframe tbody tr th:only-of-type {\n",
       "        vertical-align: middle;\n",
       "    }\n",
       "\n",
       "    .dataframe tbody tr th {\n",
       "        vertical-align: top;\n",
       "    }\n",
       "\n",
       "    .dataframe thead th {\n",
       "        text-align: right;\n",
       "    }\n",
       "</style>\n",
       "<table border=\"1\" class=\"dataframe\">\n",
       "  <thead>\n",
       "    <tr style=\"text-align: right;\">\n",
       "      <th></th>\n",
       "      <th>MYCT</th>\n",
       "      <th>MMIN</th>\n",
       "      <th>MMAX</th>\n",
       "      <th>CACH</th>\n",
       "      <th>CHMIN</th>\n",
       "      <th>CHMAX</th>\n",
       "    </tr>\n",
       "  </thead>\n",
       "  <tbody>\n",
       "    <tr>\n",
       "      <th>count</th>\n",
       "      <td>167.000000</td>\n",
       "      <td>167.000000</td>\n",
       "      <td>167.000000</td>\n",
       "      <td>167.000000</td>\n",
       "      <td>167.000000</td>\n",
       "      <td>167.000000</td>\n",
       "    </tr>\n",
       "    <tr>\n",
       "      <th>mean</th>\n",
       "      <td>207.958084</td>\n",
       "      <td>2900.826347</td>\n",
       "      <td>11761.161677</td>\n",
       "      <td>26.071856</td>\n",
       "      <td>4.760479</td>\n",
       "      <td>18.616766</td>\n",
       "    </tr>\n",
       "    <tr>\n",
       "      <th>std</th>\n",
       "      <td>266.772823</td>\n",
       "      <td>4165.950964</td>\n",
       "      <td>12108.332354</td>\n",
       "      <td>42.410014</td>\n",
       "      <td>6.487439</td>\n",
       "      <td>27.489919</td>\n",
       "    </tr>\n",
       "    <tr>\n",
       "      <th>min</th>\n",
       "      <td>17.000000</td>\n",
       "      <td>64.000000</td>\n",
       "      <td>64.000000</td>\n",
       "      <td>0.000000</td>\n",
       "      <td>0.000000</td>\n",
       "      <td>0.000000</td>\n",
       "    </tr>\n",
       "    <tr>\n",
       "      <th>25%</th>\n",
       "      <td>50.000000</td>\n",
       "      <td>768.000000</td>\n",
       "      <td>4000.000000</td>\n",
       "      <td>0.000000</td>\n",
       "      <td>1.000000</td>\n",
       "      <td>5.000000</td>\n",
       "    </tr>\n",
       "    <tr>\n",
       "      <th>50%</th>\n",
       "      <td>110.000000</td>\n",
       "      <td>2000.000000</td>\n",
       "      <td>8000.000000</td>\n",
       "      <td>8.000000</td>\n",
       "      <td>2.000000</td>\n",
       "      <td>8.000000</td>\n",
       "    </tr>\n",
       "    <tr>\n",
       "      <th>75%</th>\n",
       "      <td>232.500000</td>\n",
       "      <td>3100.000000</td>\n",
       "      <td>16000.000000</td>\n",
       "      <td>32.000000</td>\n",
       "      <td>6.000000</td>\n",
       "      <td>24.000000</td>\n",
       "    </tr>\n",
       "    <tr>\n",
       "      <th>max</th>\n",
       "      <td>1500.000000</td>\n",
       "      <td>32000.000000</td>\n",
       "      <td>64000.000000</td>\n",
       "      <td>256.000000</td>\n",
       "      <td>52.000000</td>\n",
       "      <td>176.000000</td>\n",
       "    </tr>\n",
       "  </tbody>\n",
       "</table>\n",
       "</div>"
      ],
      "text/plain": [
       "              MYCT          MMIN          MMAX        CACH       CHMIN  \\\n",
       "count   167.000000    167.000000    167.000000  167.000000  167.000000   \n",
       "mean    207.958084   2900.826347  11761.161677   26.071856    4.760479   \n",
       "std     266.772823   4165.950964  12108.332354   42.410014    6.487439   \n",
       "min      17.000000     64.000000     64.000000    0.000000    0.000000   \n",
       "25%      50.000000    768.000000   4000.000000    0.000000    1.000000   \n",
       "50%     110.000000   2000.000000   8000.000000    8.000000    2.000000   \n",
       "75%     232.500000   3100.000000  16000.000000   32.000000    6.000000   \n",
       "max    1500.000000  32000.000000  64000.000000  256.000000   52.000000   \n",
       "\n",
       "            CHMAX  \n",
       "count  167.000000  \n",
       "mean    18.616766  \n",
       "std     27.489919  \n",
       "min      0.000000  \n",
       "25%      5.000000  \n",
       "50%      8.000000  \n",
       "75%     24.000000  \n",
       "max    176.000000  "
      ]
     },
     "execution_count": 15,
     "metadata": {},
     "output_type": "execute_result"
    }
   ],
   "source": [
    "# Checking summary stats\n",
    "\n",
    "X_train.describe()"
   ]
  },
  {
   "cell_type": "code",
   "execution_count": 16,
   "id": "f0e4fb67",
   "metadata": {},
   "outputs": [
    {
     "data": {
      "text/plain": [
       "MYCT     0\n",
       "MMIN     0\n",
       "MMAX     0\n",
       "CACH     0\n",
       "CHMIN    0\n",
       "CHMAX    0\n",
       "dtype: int64"
      ]
     },
     "execution_count": 16,
     "metadata": {},
     "output_type": "execute_result"
    }
   ],
   "source": [
    "# Checking missing values\n",
    "\n",
    "X_train.isnull().sum()"
   ]
  },
  {
   "cell_type": "markdown",
   "id": "4977a1a1",
   "metadata": {},
   "source": [
    "We don't have any missing values. "
   ]
  },
  {
   "cell_type": "markdown",
   "id": "e6733727",
   "metadata": {},
   "source": [
    "<a name='4'></a>\n",
    "\n",
    "## 4 - Data Preprocessing \n",
    "\n",
    "It is here that we prepare the data to be in the proper format for the machine learning model. \n",
    "\n",
    "Decision trees don't care if the features are scaled or not. Let's set up a pipeline to scale features, and we will use it to verify that notion. "
   ]
  },
  {
   "cell_type": "code",
   "execution_count": 17,
   "id": "b7ee6d06",
   "metadata": {},
   "outputs": [],
   "source": [
    "from sklearn.preprocessing import StandardScaler\n",
    "from sklearn.pipeline import Pipeline\n",
    "\n",
    "scale_pipe = Pipeline([\n",
    "    ('scaler', StandardScaler())\n",
    "    \n",
    "])\n",
    "\n",
    "X_train_scaled = scale_pipe.fit_transform(X_train)"
   ]
  },
  {
   "cell_type": "markdown",
   "id": "dd496de6",
   "metadata": {},
   "source": [
    "<a name='5'></a>\n",
    "\n",
    "## 5 - Training Decision Tree Regressor\n"
   ]
  },
  {
   "cell_type": "code",
   "execution_count": 18,
   "id": "8311b87a",
   "metadata": {},
   "outputs": [
    {
     "data": {
      "text/plain": [
       "DecisionTreeRegressor()"
      ]
     },
     "execution_count": 18,
     "metadata": {},
     "output_type": "execute_result"
    }
   ],
   "source": [
    "from sklearn.tree import DecisionTreeRegressor\n",
    "\n",
    "tree_reg = DecisionTreeRegressor()\n",
    "\n",
    "tree_reg.fit(X_train, y_train)"
   ]
  },
  {
   "cell_type": "markdown",
   "id": "757c0a01",
   "metadata": {},
   "source": [
    "Let's train the same model on the scaled data. "
   ]
  },
  {
   "cell_type": "code",
   "execution_count": 19,
   "id": "ea28474e",
   "metadata": {},
   "outputs": [
    {
     "data": {
      "text/plain": [
       "DecisionTreeRegressor()"
      ]
     },
     "execution_count": 19,
     "metadata": {},
     "output_type": "execute_result"
    }
   ],
   "source": [
    "tree_reg_scaled = DecisionTreeRegressor()\n",
    "\n",
    "tree_reg_scaled.fit(X_train_scaled, y_train)"
   ]
  },
  {
   "cell_type": "markdown",
   "id": "9afb9bde",
   "metadata": {},
   "source": [
    "<a name='6'></a>\n",
    "\n",
    "## 6 - Evaluating Decision Trees\n",
    "\n",
    "Let's first check the root mean squarred errr on the training. It is not advised to evaluate the model on the test data since we haven't improved it yet. I will make a function to make it easier and to avoid repetitions. "
   ]
  },
  {
   "cell_type": "code",
   "execution_count": 45,
   "id": "6962359e",
   "metadata": {},
   "outputs": [],
   "source": [
    "from sklearn.metrics import mean_squared_error\n",
    "\n",
    "def predict(input_data,model,labels):\n",
    "    \"\"\"\n",
    "    Take the input data, model and labels and return predictions\n",
    "    \n",
    "    \"\"\"\n",
    "    \n",
    "    preds = model.predict(input_data)\n",
    "    mse = mean_squared_error(labels,preds)\n",
    "    rmse = np.sqrt(mse)\n",
    "    rmse\n",
    "    \n",
    "    return rmse"
   ]
  },
  {
   "cell_type": "code",
   "execution_count": 46,
   "id": "a17fed16",
   "metadata": {},
   "outputs": [
    {
     "data": {
      "text/plain": [
       "9.724590719956222"
      ]
     },
     "execution_count": 46,
     "metadata": {},
     "output_type": "execute_result"
    }
   ],
   "source": [
    "predict(X_train, tree_reg, y_train)"
   ]
  },
  {
   "cell_type": "markdown",
   "id": "109b17a0",
   "metadata": {},
   "source": [
    "And when the training data is scaled..."
   ]
  },
  {
   "cell_type": "code",
   "execution_count": 47,
   "id": "c943c75d",
   "metadata": {},
   "outputs": [
    {
     "data": {
      "text/plain": [
       "9.724590719956222"
      ]
     },
     "execution_count": 47,
     "metadata": {},
     "output_type": "execute_result"
    }
   ],
   "source": [
    "predict(X_train_scaled, tree_reg_scaled, y_train)"
   ]
  },
  {
   "cell_type": "markdown",
   "id": "b7a78d94",
   "metadata": {},
   "source": [
    "As you can see, there is no difference at all. So in your future projects using decision trees, whether you scale the data or not, your predictions will not be affected. \n",
    "\n",
    "But don't do this...."
   ]
  },
  {
   "cell_type": "code",
   "execution_count": 48,
   "id": "d2b92b25",
   "metadata": {},
   "outputs": [
    {
     "data": {
      "text/plain": [
       "201.29511805033474"
      ]
     },
     "execution_count": 48,
     "metadata": {},
     "output_type": "execute_result"
    }
   ],
   "source": [
    "predict(X_train_scaled, tree_reg, y_train)"
   ]
  },
  {
   "cell_type": "markdown",
   "id": "db9fd8d8",
   "metadata": {},
   "source": [
    "If you can inspect the parameters that I passed in predict function above, there are scaled data, model trained on unscaled data, and labels(y_train). As you may have guessed, that is a complete mismatch which led to poor results. If you trained a model on scaled data, the data that you predict the model on should be scaled in the same way too. \n",
    "\n",
    "Let's try to improve the model."
   ]
  },
  {
   "cell_type": "markdown",
   "id": "66a574a5",
   "metadata": {},
   "source": [
    "<a name='7'></a>\n",
    "\n",
    "## 7 - Improving Decision Trees"
   ]
  },
  {
   "cell_type": "code",
   "execution_count": 49,
   "id": "0f92566d",
   "metadata": {},
   "outputs": [
    {
     "data": {
      "text/plain": [
       "{'ccp_alpha': 0.0,\n",
       " 'criterion': 'mse',\n",
       " 'max_depth': None,\n",
       " 'max_features': None,\n",
       " 'max_leaf_nodes': None,\n",
       " 'min_impurity_decrease': 0.0,\n",
       " 'min_impurity_split': None,\n",
       " 'min_samples_leaf': 1,\n",
       " 'min_samples_split': 2,\n",
       " 'min_weight_fraction_leaf': 0.0,\n",
       " 'random_state': None,\n",
       " 'splitter': 'best'}"
      ]
     },
     "execution_count": 49,
     "metadata": {},
     "output_type": "execute_result"
    }
   ],
   "source": [
    "tree_reg.get_params()"
   ]
  },
  {
   "cell_type": "markdown",
   "id": "af110f75",
   "metadata": {},
   "source": [
    "We have seen that one way to improve the decision tree model is to find the right number of max_depth and some other few parameters. Let's use GridSearch to find best hyperparameters. Note that this may end up overfitting because we have a small dataset. But since we are doing this for learning purpose (you can adapt it to your problem), let's do it. "
   ]
  },
  {
   "cell_type": "code",
   "execution_count": 50,
   "id": "056818ed",
   "metadata": {},
   "outputs": [
    {
     "name": "stdout",
     "output_type": "stream",
     "text": [
      "Fitting 3 folds for each of 250 candidates, totalling 750 fits\n"
     ]
    },
    {
     "data": {
      "text/plain": [
       "GridSearchCV(cv=3, estimator=DecisionTreeRegressor(random_state=42),\n",
       "             param_grid={'max_depth': [None, 0, 1, 2, 3],\n",
       "                         'max_leaf_nodes': [0, 1, 2, 3, 4, 5, 6, 7, 8, 9],\n",
       "                         'min_samples_split': [0, 1, 2, 3, 4]},\n",
       "             verbose=1)"
      ]
     },
     "execution_count": 50,
     "metadata": {},
     "output_type": "execute_result"
    }
   ],
   "source": [
    "from sklearn.model_selection import GridSearchCV\n",
    "\n",
    "params_grid = {'max_leaf_nodes': list(range(0, 10)), 'min_samples_split': [0,1,2, 3, 4], \n",
    "              'max_depth':[None,0,1,2,3]}\n",
    "\n",
    "#refit is true by default. The best estimator is trained on the whole dataset \n",
    "\n",
    "grid_search = GridSearchCV(DecisionTreeRegressor(random_state=42), params_grid, verbose=1, cv=3, refit=True)\n",
    "\n",
    "grid_search.fit(X_train, y_train)"
   ]
  },
  {
   "cell_type": "code",
   "execution_count": 51,
   "id": "55a5d7f3",
   "metadata": {},
   "outputs": [
    {
     "data": {
      "text/plain": [
       "{'max_depth': None, 'max_leaf_nodes': 9, 'min_samples_split': 4}"
      ]
     },
     "execution_count": 51,
     "metadata": {},
     "output_type": "execute_result"
    }
   ],
   "source": [
    "grid_search.best_params_"
   ]
  },
  {
   "cell_type": "code",
   "execution_count": 52,
   "id": "c4a1488d",
   "metadata": {},
   "outputs": [
    {
     "data": {
      "text/plain": [
       "DecisionTreeRegressor(max_leaf_nodes=9, min_samples_split=4, random_state=42)"
      ]
     },
     "execution_count": 52,
     "metadata": {},
     "output_type": "execute_result"
    }
   ],
   "source": [
    "grid_search.best_estimator_"
   ]
  },
  {
   "cell_type": "code",
   "execution_count": 53,
   "id": "4995ab2d",
   "metadata": {},
   "outputs": [],
   "source": [
    "tree_best = grid_search.best_estimator_"
   ]
  },
  {
   "cell_type": "markdown",
   "id": "44fc64ef",
   "metadata": {},
   "source": [
    "Let's make prediction on the training data again"
   ]
  },
  {
   "cell_type": "code",
   "execution_count": 54,
   "id": "85b1b211",
   "metadata": {},
   "outputs": [
    {
     "data": {
      "text/plain": [
       "34.999530266023044"
      ]
     },
     "execution_count": 54,
     "metadata": {},
     "output_type": "execute_result"
    }
   ],
   "source": [
    "predict(X_train, tree_best, y_train)"
   ]
  },
  {
   "cell_type": "markdown",
   "id": "b93b6002",
   "metadata": {},
   "source": [
    "Like we said, we overfitted. The RMSE on our small dataset was pretty enough (and you probably would not use decision trees for small data like this we are using). \n",
    "\n",
    "Finally we can evaluate the model on the test set. Let's use the orginal model. "
   ]
  },
  {
   "cell_type": "code",
   "execution_count": 55,
   "id": "f03cc7fa",
   "metadata": {},
   "outputs": [
    {
     "data": {
      "text/plain": [
       "42.89411103991738"
      ]
     },
     "execution_count": 55,
     "metadata": {},
     "output_type": "execute_result"
    }
   ],
   "source": [
    "predict(X_test, tree_reg, y_test)"
   ]
  },
  {
   "cell_type": "markdown",
   "id": "5f5ebfcd",
   "metadata": {},
   "source": [
    "Clearly, the model overfitted and the improvements we tried didn't improve anything. This is not an issue of the model or our approach to improve the model. Decision trees are complex models for the data we have. "
   ]
  },
  {
   "cell_type": "markdown",
   "id": "af266a08",
   "metadata": {},
   "source": [
    "This is the end of the notebook. We have learned the fundamental idea behind the decision trees, and used it to predict the CPU performance. In the next lab, we will use it for classification task and we will use a real world dataset so that we can practically improve the decision trees model. "
   ]
  },
  {
   "cell_type": "markdown",
   "id": "17af5728",
   "metadata": {},
   "source": [
    "[Back to top](#0)"
   ]
  },
  {
   "cell_type": "code",
   "execution_count": null,
   "id": "620a4d3e",
   "metadata": {},
   "outputs": [],
   "source": []
  }
 ],
 "metadata": {
  "kernelspec": {
   "display_name": "Python 3.7.10 64-bit ('tensor': conda)",
   "language": "python",
   "name": "python3710jvsc74a57bd034ac5db714c5906ee087fcf6e2d00ee4febf096586592b6ba3662ed3b7e7a5f6"
  },
  "language_info": {
   "codemirror_mode": {
    "name": "ipython",
    "version": 3
   },
   "file_extension": ".py",
   "mimetype": "text/x-python",
   "name": "python",
   "nbconvert_exporter": "python",
   "pygments_lexer": "ipython3",
   "version": "3.7.10"
  }
 },
 "nbformat": 4,
 "nbformat_minor": 5
}
